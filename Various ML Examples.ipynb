{
 "cells": [
  {
   "cell_type": "code",
   "execution_count": 18,
   "metadata": {
    "collapsed": false
   },
   "outputs": [],
   "source": [
    "import numpy\n",
    "import scipy\n",
    "import matplotlib\n",
    "import sklearn\n",
    "import matplotlib.pyplot as plt\n",
    "from sklearn import datasets\n",
    "from sklearn import svm\n",
    "\n",
    "%matplotlib inline\n",
    "\n",
    "digits = datasets.load_digits()"
   ]
  },
  {
   "cell_type": "code",
   "execution_count": 35,
   "metadata": {
    "collapsed": false
   },
   "outputs": [
    {
     "name": "stdout",
     "output_type": "stream",
     "text": [
      "[[  0.   0.   5. ...,   0.   0.   0.]\n",
      " [  0.   0.   0. ...,  10.   0.   0.]\n",
      " [  0.   0.   0. ...,  16.   9.   0.]\n",
      " ..., \n",
      " [  0.   0.   1. ...,   6.   0.   0.]\n",
      " [  0.   0.   2. ...,  12.   0.   0.]\n",
      " [  0.   0.  10. ...,  12.   1.   0.]]\n"
     ]
    }
   ],
   "source": [
    "print(digits.data)\n"
   ]
  },
  {
   "cell_type": "code",
   "execution_count": 36,
   "metadata": {
    "collapsed": false
   },
   "outputs": [
    {
     "name": "stdout",
     "output_type": "stream",
     "text": [
      "[0 1 2 ..., 8 9 8]\n"
     ]
    }
   ],
   "source": [
    "print(digits.target)"
   ]
  },
  {
   "cell_type": "code",
   "execution_count": 43,
   "metadata": {
    "collapsed": false
   },
   "outputs": [
    {
     "data": {
      "text/plain": [
       "SVC(C=100, cache_size=200, class_weight=None, coef0=0.0,\n",
       "  decision_function_shape=None, degree=3, gamma=1e-06, kernel='rbf',\n",
       "  max_iter=-1, probability=False, random_state=None, shrinking=True,\n",
       "  tol=0.001, verbose=False)"
      ]
     },
     "execution_count": 43,
     "metadata": {},
     "output_type": "execute_result"
    }
   ],
   "source": [
    "clf = svm.SVC(gamma=0.000001, C=100)\n",
    "X,y = digits.data[:-10], digits.target[:-10]\n",
    "clf.fit(X,y)"
   ]
  },
  {
   "cell_type": "code",
   "execution_count": 49,
   "metadata": {
    "collapsed": false
   },
   "outputs": [
    {
     "name": "stdout",
     "output_type": "stream",
     "text": [
      "[9]\n"
     ]
    },
    {
     "name": "stderr",
     "output_type": "stream",
     "text": [
      "/usr/local/lib/python2.7/dist-packages/sklearn/utils/validation.py:386: DeprecationWarning: Passing 1d arrays as data is deprecated in 0.17 and willraise ValueError in 0.19. Reshape your data either using X.reshape(-1, 1) if your data has a single feature or X.reshape(1, -1) if it contains a single sample.\n",
      "  DeprecationWarning)\n"
     ]
    }
   ],
   "source": [
    "print(clf.predict(digits.data[-5]))"
   ]
  },
  {
   "cell_type": "code",
   "execution_count": 50,
   "metadata": {
    "collapsed": false
   },
   "outputs": [
    {
     "data": {
      "image/png": "[encoded data removed]",
      "text/plain": [
       "<matplotlib.figure.Figure at 0x7f184fbbf950>"
      ]
     },
     "metadata": {},
     "output_type": "display_data"
    }
   ],
   "source": [
    "plt.imshow(digits.images[-5], cmap=plt.cm.gray_r, interpolation='nearest')\n",
    "plt.show()"
   ]
  },
  {
   "cell_type": "markdown",
   "metadata": {},
   "source": []
  },
  {
   "cell_type": "code",
   "execution_count": 65,
   "metadata": {
    "collapsed": false
   },
   "outputs": [],
   "source": [
    "import pandas as pd\n",
    "import os\n",
    "import time\n",
    "from datetime import datetime\n",
    "\n",
    "def Stock_Prices():\n",
    "    df = pd.DataFrame()\n",
    "\n",
    "    statspath = 'keystats'\n",
    "    stock_list = [x[0] for x in os.walk(statspath)]\n",
    "\n",
    "    print(stock_list)\n",
    "\n",
    "    for each_dir in stock_list[1:]:\n",
    "        ticker = each_dir.split(\"\\\\\")[1]\n",
    "        print(ticker)\n",
    "#        name = \"WIKI/\"+ticker.upper()\n",
    "#        data = Quandl.get(name, trim_start = \"2000-12-12\", trim_end = \"2014-12-30\")\n",
    "            \n"
   ]
  },
  {
   "cell_type": "code",
   "execution_count": 66,
   "metadata": {
    "collapsed": false
   },
   "outputs": [
    {
     "name": "stdout",
     "output_type": "stream",
     "text": [
      "['keystats', 'keystats/dal', 'keystats/ups', 'keystats/txn', 'keystats/xom', 'keystats/leg', 'keystats/wy', 'keystats/aapl', 'keystats/adbe', 'keystats/ea']\n"
     ]
    },
    {
     "ename": "IndexError",
     "evalue": "list index out of range",
     "output_type": "error",
     "traceback": [
      "\u001b[0;31m\u001b[0m",
      "\u001b[0;31mIndexError\u001b[0mTraceback (most recent call last)",
      "\u001b[0;32m<ipython-input-66-abd14c584d22>\u001b[0m in \u001b[0;36m<module>\u001b[0;34m()\u001b[0m\n\u001b[0;32m----> 1\u001b[0;31m \u001b[0mStock_Prices\u001b[0m\u001b[0;34m(\u001b[0m\u001b[0;34m)\u001b[0m\u001b[0;34m\u001b[0m\u001b[0m\n\u001b[0m",
      "\u001b[0;32m<ipython-input-65-73c2b9a44770>\u001b[0m in \u001b[0;36mStock_Prices\u001b[0;34m()\u001b[0m\n\u001b[1;32m     13\u001b[0m \u001b[0;34m\u001b[0m\u001b[0m\n\u001b[1;32m     14\u001b[0m     \u001b[0;32mfor\u001b[0m \u001b[0meach_dir\u001b[0m \u001b[0;32min\u001b[0m \u001b[0mstock_list\u001b[0m\u001b[0;34m[\u001b[0m\u001b[0;36m1\u001b[0m\u001b[0;34m:\u001b[0m\u001b[0;34m]\u001b[0m\u001b[0;34m:\u001b[0m\u001b[0;34m\u001b[0m\u001b[0m\n\u001b[0;32m---> 15\u001b[0;31m         \u001b[0mticker\u001b[0m \u001b[0;34m=\u001b[0m \u001b[0meach_dir\u001b[0m\u001b[0;34m.\u001b[0m\u001b[0msplit\u001b[0m\u001b[0;34m(\u001b[0m\u001b[0;34m\"\\\\\"\u001b[0m\u001b[0;34m)\u001b[0m\u001b[0;34m[\u001b[0m\u001b[0;36m1\u001b[0m\u001b[0;34m]\u001b[0m\u001b[0;34m\u001b[0m\u001b[0m\n\u001b[0m\u001b[1;32m     16\u001b[0m         \u001b[0;32mprint\u001b[0m\u001b[0;34m(\u001b[0m\u001b[0mticker\u001b[0m\u001b[0;34m)\u001b[0m\u001b[0;34m\u001b[0m\u001b[0m\n\u001b[1;32m     17\u001b[0m \u001b[0;31m#        name = \"WIKI/\"+ticker.upper()\u001b[0m\u001b[0;34m\u001b[0m\u001b[0;34m\u001b[0m\u001b[0m\n",
      "\u001b[0;31mIndexError\u001b[0m: list index out of range"
     ]
    }
   ],
   "source": [
    "Stock_Prices()"
   ]
  },
  {
   "cell_type": "code",
   "execution_count": null,
   "metadata": {
    "collapsed": true
   },
   "outputs": [],
   "source": []
  },
  {
   "cell_type": "code",
   "execution_count": null,
   "metadata": {
    "collapsed": true
   },
   "outputs": [],
   "source": []
  },
  {
   "cell_type": "code",
   "execution_count": 3,
   "metadata": {
    "collapsed": false
   },
   "outputs": [],
   "source": [
    "import pandas as pd\n",
    "import os\n",
    "import quandl\n",
    "import time\n",
    "quandl.ApiConfig.api_key = 'Kxj1hKpiLH4vM5KTCBs9'"
   ]
  },
  {
   "cell_type": "code",
   "execution_count": 4,
   "metadata": {
    "collapsed": true
   },
   "outputs": [],
   "source": [
    "data = quandl.get(\"WIKI/KO\", trim_start = \"2000-12-12\", trim_end = \"2014-12-30\")"
   ]
  },
  {
   "cell_type": "code",
   "execution_count": 5,
   "metadata": {
    "collapsed": false
   },
   "outputs": [
    {
     "data": {
      "text/html": [
       "<div>\n",
       "<table border=\"1\" class=\"dataframe\">\n",
       "  <thead>\n",
       "    <tr style=\"text-align: right;\">\n",
       "      <th></th>\n",
       "      <th>Open</th>\n",
       "      <th>High</th>\n",
       "      <th>Low</th>\n",
       "      <th>Close</th>\n",
       "      <th>Volume</th>\n",
       "      <th>Ex-Dividend</th>\n",
       "      <th>Split Ratio</th>\n",
       "      <th>Adj. Open</th>\n",
       "      <th>Adj. High</th>\n",
       "      <th>Adj. Low</th>\n",
       "      <th>Adj. Close</th>\n",
       "      <th>Adj. Volume</th>\n",
       "    </tr>\n",
       "    <tr>\n",
       "      <th>Date</th>\n",
       "      <th></th>\n",
       "      <th></th>\n",
       "      <th></th>\n",
       "      <th></th>\n",
       "      <th></th>\n",
       "      <th></th>\n",
       "      <th></th>\n",
       "      <th></th>\n",
       "      <th></th>\n",
       "      <th></th>\n",
       "      <th></th>\n",
       "      <th></th>\n",
       "    </tr>\n",
       "  </thead>\n",
       "  <tbody>\n",
       "    <tr>\n",
       "      <th>2000-12-12</th>\n",
       "      <td>57.69</td>\n",
       "      <td>58.69</td>\n",
       "      <td>57.63</td>\n",
       "      <td>58.00</td>\n",
       "      <td>4004100.0</td>\n",
       "      <td>0.0</td>\n",
       "      <td>1.0</td>\n",
       "      <td>18.708118</td>\n",
       "      <td>19.032405</td>\n",
       "      <td>18.688661</td>\n",
       "      <td>18.808647</td>\n",
       "      <td>8008200.0</td>\n",
       "    </tr>\n",
       "    <tr>\n",
       "      <th>2000-12-13</th>\n",
       "      <td>57.75</td>\n",
       "      <td>58.31</td>\n",
       "      <td>57.25</td>\n",
       "      <td>57.81</td>\n",
       "      <td>3704900.0</td>\n",
       "      <td>0.0</td>\n",
       "      <td>1.0</td>\n",
       "      <td>18.727576</td>\n",
       "      <td>18.909176</td>\n",
       "      <td>18.565432</td>\n",
       "      <td>18.747033</td>\n",
       "      <td>7409800.0</td>\n",
       "    </tr>\n",
       "    <tr>\n",
       "      <th>2000-12-14</th>\n",
       "      <td>56.00</td>\n",
       "      <td>57.44</td>\n",
       "      <td>55.75</td>\n",
       "      <td>57.00</td>\n",
       "      <td>5023800.0</td>\n",
       "      <td>0.0</td>\n",
       "      <td>1.0</td>\n",
       "      <td>18.160073</td>\n",
       "      <td>18.627047</td>\n",
       "      <td>18.079002</td>\n",
       "      <td>18.484360</td>\n",
       "      <td>10047600.0</td>\n",
       "    </tr>\n",
       "    <tr>\n",
       "      <th>2000-12-15</th>\n",
       "      <td>55.00</td>\n",
       "      <td>56.69</td>\n",
       "      <td>53.50</td>\n",
       "      <td>53.50</td>\n",
       "      <td>13770200.0</td>\n",
       "      <td>0.0</td>\n",
       "      <td>1.0</td>\n",
       "      <td>17.835786</td>\n",
       "      <td>18.383831</td>\n",
       "      <td>17.349356</td>\n",
       "      <td>17.349356</td>\n",
       "      <td>27540400.0</td>\n",
       "    </tr>\n",
       "    <tr>\n",
       "      <th>2000-12-18</th>\n",
       "      <td>54.00</td>\n",
       "      <td>55.56</td>\n",
       "      <td>53.63</td>\n",
       "      <td>54.88</td>\n",
       "      <td>5152300.0</td>\n",
       "      <td>0.0</td>\n",
       "      <td>1.0</td>\n",
       "      <td>17.511499</td>\n",
       "      <td>18.017387</td>\n",
       "      <td>17.391513</td>\n",
       "      <td>17.796872</td>\n",
       "      <td>10304600.0</td>\n",
       "    </tr>\n",
       "  </tbody>\n",
       "</table>\n",
       "</div>"
      ],
      "text/plain": [
       "             Open   High    Low  Close      Volume  Ex-Dividend  Split Ratio  \\\n",
       "Date                                                                           \n",
       "2000-12-12  57.69  58.69  57.63  58.00   4004100.0          0.0          1.0   \n",
       "2000-12-13  57.75  58.31  57.25  57.81   3704900.0          0.0          1.0   \n",
       "2000-12-14  56.00  57.44  55.75  57.00   5023800.0          0.0          1.0   \n",
       "2000-12-15  55.00  56.69  53.50  53.50  13770200.0          0.0          1.0   \n",
       "2000-12-18  54.00  55.56  53.63  54.88   5152300.0          0.0          1.0   \n",
       "\n",
       "            Adj. Open  Adj. High   Adj. Low  Adj. Close  Adj. Volume  \n",
       "Date                                                                  \n",
       "2000-12-12  18.708118  19.032405  18.688661   18.808647    8008200.0  \n",
       "2000-12-13  18.727576  18.909176  18.565432   18.747033    7409800.0  \n",
       "2000-12-14  18.160073  18.627047  18.079002   18.484360   10047600.0  \n",
       "2000-12-15  17.835786  18.383831  17.349356   17.349356   27540400.0  \n",
       "2000-12-18  17.511499  18.017387  17.391513   17.796872   10304600.0  "
      ]
     },
     "execution_count": 5,
     "metadata": {},
     "output_type": "execute_result"
    }
   ],
   "source": [
    "data.head()"
   ]
  },
  {
   "cell_type": "code",
   "execution_count": null,
   "metadata": {
    "collapsed": true
   },
   "outputs": [],
   "source": []
  },
  {
   "cell_type": "code",
   "execution_count": null,
   "metadata": {
    "collapsed": true
   },
   "outputs": [],
   "source": []
  }
 ],
 "metadata": {
  "kernelspec": {
   "display_name": "Python 2",
   "language": "python",
   "name": "python2"
  },
  "language_info": {
   "codemirror_mode": {
    "name": "ipython",
    "version": 2
   },
   "file_extension": ".py",
   "mimetype": "text/x-python",
   "name": "python",
   "nbconvert_exporter": "python",
   "pygments_lexer": "ipython2",
   "version": "2.7.6"
  }
 },
 "nbformat": 4,
 "nbformat_minor": 0
}
